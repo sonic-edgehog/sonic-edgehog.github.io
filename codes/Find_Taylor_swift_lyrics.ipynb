{
 "cells": [
  {
   "cell_type": "code",
   "execution_count": 1,
   "id": "manufactured-scientist",
   "metadata": {},
   "outputs": [
    {
     "name": "stderr",
     "output_type": "stream",
     "text": [
      "also installing the dependencies ‘SnowballC’, ‘generics’, ‘tidyselect’, ‘selectr’, ‘cpp11’, ‘hms’, ‘BH’, ‘hunspell’, ‘tokenizers’, ‘janeaustenr’, ‘plyr’, ‘dplyr’, ‘rvest’, ‘tidyr’, ‘readr’, ‘tidytext’, ‘reshape2’\n",
      "\n",
      "\n",
      "Updating HTML index of packages in '.Library'\n",
      "\n",
      "Making 'packages.html' ...\n",
      " done\n",
      "\n"
     ]
    }
   ],
   "source": [
    "install.packages(\"genius\")"
   ]
  },
  {
   "cell_type": "code",
   "execution_count": 3,
   "id": "welcome-finding",
   "metadata": {},
   "outputs": [
    {
     "name": "stderr",
     "output_type": "stream",
     "text": [
      "also installing the dependencies ‘rematch’, ‘tinytex’, ‘blob’, ‘DBI’, ‘cellranger’, ‘progress’, ‘rmarkdown’, ‘broom’, ‘dbplyr’, ‘forcats’, ‘haven’, ‘lubridate’, ‘modelr’, ‘readxl’, ‘reprex’\n",
      "\n",
      "\n",
      "Updating HTML index of packages in '.Library'\n",
      "\n",
      "Making 'packages.html' ...\n",
      " done\n",
      "\n"
     ]
    }
   ],
   "source": [
    "install.packages(\"tidyverse\")"
   ]
  },
  {
   "cell_type": "code",
   "execution_count": 4,
   "id": "filled-paper",
   "metadata": {},
   "outputs": [
    {
     "name": "stderr",
     "output_type": "stream",
     "text": [
      "── \u001b[1mAttaching packages\u001b[22m ─────────────────────────────────────── tidyverse 1.3.0 ──\n",
      "\n",
      "\u001b[32m✔\u001b[39m \u001b[34mggplot2\u001b[39m 3.3.3     \u001b[32m✔\u001b[39m \u001b[34mpurrr  \u001b[39m 0.3.4\n",
      "\u001b[32m✔\u001b[39m \u001b[34mtibble \u001b[39m 3.0.6     \u001b[32m✔\u001b[39m \u001b[34mdplyr  \u001b[39m 1.0.5\n",
      "\u001b[32m✔\u001b[39m \u001b[34mtidyr  \u001b[39m 1.1.3     \u001b[32m✔\u001b[39m \u001b[34mstringr\u001b[39m 1.4.0\n",
      "\u001b[32m✔\u001b[39m \u001b[34mreadr  \u001b[39m 1.4.0     \u001b[32m✔\u001b[39m \u001b[34mforcats\u001b[39m 0.5.1\n",
      "\n",
      "── \u001b[1mConflicts\u001b[22m ────────────────────────────────────────── tidyverse_conflicts() ──\n",
      "\u001b[31m✖\u001b[39m \u001b[34mdplyr\u001b[39m::\u001b[32mfilter()\u001b[39m masks \u001b[34mstats\u001b[39m::filter()\n",
      "\u001b[31m✖\u001b[39m \u001b[34mdplyr\u001b[39m::\u001b[32mlag()\u001b[39m    masks \u001b[34mstats\u001b[39m::lag()\n",
      "\n"
     ]
    }
   ],
   "source": [
    "library(genius)\n",
    "library(tidyverse)"
   ]
  },
  {
   "cell_type": "code",
   "execution_count": 9,
   "id": "official-bobby",
   "metadata": {},
   "outputs": [
    {
     "name": "stderr",
     "output_type": "stream",
     "text": [
      "Warning message:\n",
      "“`html_session()` was deprecated in rvest 1.0.0.\n",
      "Please use `session()` instead.\n",
      "\u001b[90mThis warning is displayed once every 8 hours.\u001b[39m\n",
      "\u001b[90mCall `lifecycle::last_warnings()` to see where this warning was generated.\u001b[39m”\n",
      "Joining, by = c(\"album_name\", \"track_n\", \"track_url\")\n",
      "\n"
     ]
    }
   ],
   "source": [
    "ts1 <- genius_album(artist = \"Taylor Swift\", album = \"Taylor Swift\")%>%\n",
    "  mutate(album = \"Taylor Swift\")"
   ]
  },
  {
   "cell_type": "code",
   "execution_count": 16,
   "id": "extraordinary-appeal",
   "metadata": {},
   "outputs": [],
   "source": [
    "artist_albums <- tribble(\n",
    " ~artist, ~album,\n",
    "\"Taylor Swift\", \"Taylor Swift\",\n",
    "\"Taylor Swift\", \"Fearless\",\n",
    "\"Taylor Swift\", \"Speak Now\",\n",
    "\"Taylor Swift\", \"Red\",\n",
    "\"Taylor Swift\", \"1989\",   \n",
    "\"Taylor Swift\", \"reputation\",\n",
    "\"Taylor Swift\", \"Lover\", \n",
    "\"Taylor Swift\", \"folklore\", \n",
    "\"Taylor Swift\", \"evermore\"\n",
    ")"
   ]
  },
  {
   "cell_type": "code",
   "execution_count": 17,
   "id": "cheap-morrison",
   "metadata": {},
   "outputs": [
    {
     "data": {
      "text/html": [
       "<table class=\"dataframe\">\n",
       "<caption>A tibble: 9 × 2</caption>\n",
       "<thead>\n",
       "\t<tr><th scope=col>artist</th><th scope=col>album</th></tr>\n",
       "\t<tr><th scope=col>&lt;chr&gt;</th><th scope=col>&lt;chr&gt;</th></tr>\n",
       "</thead>\n",
       "<tbody>\n",
       "\t<tr><td>Taylor Swift</td><td>Taylor Swift</td></tr>\n",
       "\t<tr><td>Taylor Swift</td><td>Fearless    </td></tr>\n",
       "\t<tr><td>Taylor Swift</td><td>Speak Now   </td></tr>\n",
       "\t<tr><td>Taylor Swift</td><td>Red         </td></tr>\n",
       "\t<tr><td>Taylor Swift</td><td>1989        </td></tr>\n",
       "\t<tr><td>Taylor Swift</td><td>reputation  </td></tr>\n",
       "\t<tr><td>Taylor Swift</td><td>Lover       </td></tr>\n",
       "\t<tr><td>Taylor Swift</td><td>folklore    </td></tr>\n",
       "\t<tr><td>Taylor Swift</td><td>evermore    </td></tr>\n",
       "</tbody>\n",
       "</table>\n"
      ],
      "text/latex": [
       "A tibble: 9 × 2\n",
       "\\begin{tabular}{ll}\n",
       " artist & album\\\\\n",
       " <chr> & <chr>\\\\\n",
       "\\hline\n",
       "\t Taylor Swift & Taylor Swift\\\\\n",
       "\t Taylor Swift & Fearless    \\\\\n",
       "\t Taylor Swift & Speak Now   \\\\\n",
       "\t Taylor Swift & Red         \\\\\n",
       "\t Taylor Swift & 1989        \\\\\n",
       "\t Taylor Swift & reputation  \\\\\n",
       "\t Taylor Swift & Lover       \\\\\n",
       "\t Taylor Swift & folklore    \\\\\n",
       "\t Taylor Swift & evermore    \\\\\n",
       "\\end{tabular}\n"
      ],
      "text/markdown": [
       "\n",
       "A tibble: 9 × 2\n",
       "\n",
       "| artist &lt;chr&gt; | album &lt;chr&gt; |\n",
       "|---|---|\n",
       "| Taylor Swift | Taylor Swift |\n",
       "| Taylor Swift | Fearless     |\n",
       "| Taylor Swift | Speak Now    |\n",
       "| Taylor Swift | Red          |\n",
       "| Taylor Swift | 1989         |\n",
       "| Taylor Swift | reputation   |\n",
       "| Taylor Swift | Lover        |\n",
       "| Taylor Swift | folklore     |\n",
       "| Taylor Swift | evermore     |\n",
       "\n"
      ],
      "text/plain": [
       "  artist       album       \n",
       "1 Taylor Swift Taylor Swift\n",
       "2 Taylor Swift Fearless    \n",
       "3 Taylor Swift Speak Now   \n",
       "4 Taylor Swift Red         \n",
       "5 Taylor Swift 1989        \n",
       "6 Taylor Swift reputation  \n",
       "7 Taylor Swift Lover       \n",
       "8 Taylor Swift folklore    \n",
       "9 Taylor Swift evermore    "
      ]
     },
     "metadata": {},
     "output_type": "display_data"
    }
   ],
   "source": [
    "artist_albums"
   ]
  },
  {
   "cell_type": "code",
   "execution_count": 20,
   "id": "separated-pride",
   "metadata": {},
   "outputs": [
    {
     "data": {
      "text/html": [
       "<style>\n",
       ".list-inline {list-style: none; margin:0; padding: 0}\n",
       ".list-inline>li {display: inline-block}\n",
       ".list-inline>li:not(:last-child)::after {content: \"\\00b7\"; padding: 0 .5ex}\n",
       "</style>\n",
       "<ol class=list-inline><li>'tbl_df'</li><li>'tbl'</li><li>'data.frame'</li></ol>\n"
      ],
      "text/latex": [
       "\\begin{enumerate*}\n",
       "\\item 'tbl\\_df'\n",
       "\\item 'tbl'\n",
       "\\item 'data.frame'\n",
       "\\end{enumerate*}\n"
      ],
      "text/markdown": [
       "1. 'tbl_df'\n",
       "2. 'tbl'\n",
       "3. 'data.frame'\n",
       "\n",
       "\n"
      ],
      "text/plain": [
       "[1] \"tbl_df\"     \"tbl\"        \"data.frame\""
      ]
     },
     "metadata": {},
     "output_type": "display_data"
    }
   ],
   "source": [
    "class(ts1)"
   ]
  },
  {
   "cell_type": "code",
   "execution_count": 24,
   "id": "everyday-ideal",
   "metadata": {},
   "outputs": [],
   "source": [
    "df_discography <- data.frame(Date=as.Date(character()),\n",
    "                 File=character(), \n",
    "                 User=character(), \n",
    "                 stringsAsFactors=FALSE) "
   ]
  },
  {
   "cell_type": "code",
   "execution_count": 28,
   "id": "touched-vector",
   "metadata": {},
   "outputs": [],
   "source": [
    "album_list = c(\"Taylor Swift\",\"Fearless\",\"Speak Now\",\"Red\",\"1989\",\"reputation\",\"Lover\",\"folklore\",'evermore')"
   ]
  },
  {
   "cell_type": "code",
   "execution_count": 29,
   "id": "preliminary-battle",
   "metadata": {},
   "outputs": [
    {
     "data": {
      "text/html": [
       "<style>\n",
       ".list-inline {list-style: none; margin:0; padding: 0}\n",
       ".list-inline>li {display: inline-block}\n",
       ".list-inline>li:not(:last-child)::after {content: \"\\00b7\"; padding: 0 .5ex}\n",
       "</style>\n",
       "<ol class=list-inline><li>'Taylor Swift'</li><li>'Fearless'</li><li>'Speak Now'</li><li>'Red'</li><li>'1989'</li><li>'reputation'</li><li>'Lover'</li><li>'folklore'</li><li>'evermore'</li></ol>\n"
      ],
      "text/latex": [
       "\\begin{enumerate*}\n",
       "\\item 'Taylor Swift'\n",
       "\\item 'Fearless'\n",
       "\\item 'Speak Now'\n",
       "\\item 'Red'\n",
       "\\item '1989'\n",
       "\\item 'reputation'\n",
       "\\item 'Lover'\n",
       "\\item 'folklore'\n",
       "\\item 'evermore'\n",
       "\\end{enumerate*}\n"
      ],
      "text/markdown": [
       "1. 'Taylor Swift'\n",
       "2. 'Fearless'\n",
       "3. 'Speak Now'\n",
       "4. 'Red'\n",
       "5. '1989'\n",
       "6. 'reputation'\n",
       "7. 'Lover'\n",
       "8. 'folklore'\n",
       "9. 'evermore'\n",
       "\n",
       "\n"
      ],
      "text/plain": [
       "[1] \"Taylor Swift\" \"Fearless\"     \"Speak Now\"    \"Red\"          \"1989\"        \n",
       "[6] \"reputation\"   \"Lover\"        \"folklore\"     \"evermore\"    "
      ]
     },
     "metadata": {},
     "output_type": "display_data"
    }
   ],
   "source": [
    "album_list"
   ]
  },
  {
   "cell_type": "code",
   "execution_count": 31,
   "id": "southern-director",
   "metadata": {},
   "outputs": [
    {
     "data": {
      "text/html": [
       "'Speak Now'"
      ],
      "text/latex": [
       "'Speak Now'"
      ],
      "text/markdown": [
       "'Speak Now'"
      ],
      "text/plain": [
       "[1] \"Speak Now\""
      ]
     },
     "metadata": {},
     "output_type": "display_data"
    }
   ],
   "source": [
    "album_list[3]"
   ]
  },
  {
   "cell_type": "code",
   "execution_count": 32,
   "id": "fleet-peace",
   "metadata": {},
   "outputs": [
    {
     "name": "stderr",
     "output_type": "stream",
     "text": [
      "Joining, by = c(\"album_name\", \"track_n\", \"track_url\")\n",
      "\n",
      "Joining, by = c(\"album_name\", \"track_n\", \"track_url\")\n",
      "\n",
      "Joining, by = c(\"album_name\", \"track_n\", \"track_url\")\n",
      "\n",
      "Joining, by = c(\"album_name\", \"track_n\", \"track_url\")\n",
      "\n",
      "Joining, by = c(\"album_name\", \"track_n\", \"track_url\")\n",
      "\n",
      "Joining, by = c(\"album_name\", \"track_n\", \"track_url\")\n",
      "\n",
      "Joining, by = c(\"album_name\", \"track_n\", \"track_url\")\n",
      "\n",
      "Joining, by = c(\"album_name\", \"track_n\", \"track_url\")\n",
      "\n",
      "Joining, by = c(\"album_name\", \"track_n\", \"track_url\")\n",
      "\n"
     ]
    }
   ],
   "source": [
    "for (album_name in album_list)\n",
    "    {\n",
    "    ts_discography = genius_album(artist = \"Taylor Swift\", album = album_name)%>%mutate(album = album_name)\n",
    "    df_discography = rbind(df_discography,ts_discography)\n",
    "    }"
   ]
  },
  {
   "cell_type": "code",
   "execution_count": 33,
   "id": "dangerous-machinery",
   "metadata": {},
   "outputs": [
    {
     "data": {
      "text/html": [
       "<style>\n",
       ".list-inline {list-style: none; margin:0; padding: 0}\n",
       ".list-inline>li {display: inline-block}\n",
       ".list-inline>li:not(:last-child)::after {content: \"\\00b7\"; padding: 0 .5ex}\n",
       "</style>\n",
       "<ol class=list-inline><li>6960</li><li>5</li></ol>\n"
      ],
      "text/latex": [
       "\\begin{enumerate*}\n",
       "\\item 6960\n",
       "\\item 5\n",
       "\\end{enumerate*}\n"
      ],
      "text/markdown": [
       "1. 6960\n",
       "2. 5\n",
       "\n",
       "\n"
      ],
      "text/plain": [
       "[1] 6960    5"
      ]
     },
     "metadata": {},
     "output_type": "display_data"
    }
   ],
   "source": [
    "dim(df_discography)"
   ]
  },
  {
   "cell_type": "code",
   "execution_count": 34,
   "id": "still-imperial",
   "metadata": {},
   "outputs": [
    {
     "data": {
      "text/html": [
       "<table class=\"dataframe\">\n",
       "<caption>A tibble: 6960 × 5</caption>\n",
       "<thead>\n",
       "\t<tr><th scope=col>track_n</th><th scope=col>line</th><th scope=col>lyric</th><th scope=col>track_title</th><th scope=col>album</th></tr>\n",
       "\t<tr><th scope=col>&lt;int&gt;</th><th scope=col>&lt;int&gt;</th><th scope=col>&lt;chr&gt;</th><th scope=col>&lt;chr&gt;</th><th scope=col>&lt;chr&gt;</th></tr>\n",
       "</thead>\n",
       "<tbody>\n",
       "\t<tr><td>1</td><td> 1</td><td>He said the way my blue eyes shined                  </td><td>Tim McGraw</td><td>Taylor Swift</td></tr>\n",
       "\t<tr><td>1</td><td> 2</td><td>Put those Georgia stars to shame that night          </td><td>Tim McGraw</td><td>Taylor Swift</td></tr>\n",
       "\t<tr><td>1</td><td> 3</td><td>I said, \"That's a lie\"Just a boy in a Chevy truck    </td><td>Tim McGraw</td><td>Taylor Swift</td></tr>\n",
       "\t<tr><td>1</td><td> 4</td><td>That had a tendency of gettin' stuck                 </td><td>Tim McGraw</td><td>Taylor Swift</td></tr>\n",
       "\t<tr><td>1</td><td> 5</td><td>On backroads at night                                </td><td>Tim McGraw</td><td>Taylor Swift</td></tr>\n",
       "\t<tr><td>1</td><td> 6</td><td>And I was right there beside him all summer long     </td><td>Tim McGraw</td><td>Taylor Swift</td></tr>\n",
       "\t<tr><td>1</td><td> 7</td><td>And then the time we woke up to find that summer gone</td><td>Tim McGraw</td><td>Taylor Swift</td></tr>\n",
       "\t<tr><td>1</td><td> 8</td><td>But when you think Tim McGraw                        </td><td>Tim McGraw</td><td>Taylor Swift</td></tr>\n",
       "\t<tr><td>1</td><td> 9</td><td>I hope you think my favorite song                    </td><td>Tim McGraw</td><td>Taylor Swift</td></tr>\n",
       "\t<tr><td>1</td><td>10</td><td>The one we danced to all night long                  </td><td>Tim McGraw</td><td>Taylor Swift</td></tr>\n",
       "\t<tr><td>1</td><td>11</td><td>The moon like a spotlight on the lake                </td><td>Tim McGraw</td><td>Taylor Swift</td></tr>\n",
       "\t<tr><td>1</td><td>12</td><td>When you think happiness                             </td><td>Tim McGraw</td><td>Taylor Swift</td></tr>\n",
       "\t<tr><td>1</td><td>13</td><td>I hope you think that little black dress             </td><td>Tim McGraw</td><td>Taylor Swift</td></tr>\n",
       "\t<tr><td>1</td><td>14</td><td>Think of my head on your chest                       </td><td>Tim McGraw</td><td>Taylor Swift</td></tr>\n",
       "\t<tr><td>1</td><td>15</td><td>And my old faded blue jeans                          </td><td>Tim McGraw</td><td>Taylor Swift</td></tr>\n",
       "\t<tr><td>1</td><td>16</td><td>When you think Tim McGraw                            </td><td>Tim McGraw</td><td>Taylor Swift</td></tr>\n",
       "\t<tr><td>1</td><td>17</td><td>I hope you think of me                               </td><td>Tim McGraw</td><td>Taylor Swift</td></tr>\n",
       "\t<tr><td>1</td><td>18</td><td>September saw a month of tears                       </td><td>Tim McGraw</td><td>Taylor Swift</td></tr>\n",
       "\t<tr><td>1</td><td>19</td><td>And thankin' God that you weren't here               </td><td>Tim McGraw</td><td>Taylor Swift</td></tr>\n",
       "\t<tr><td>1</td><td>20</td><td>To see me like that                                  </td><td>Tim McGraw</td><td>Taylor Swift</td></tr>\n",
       "\t<tr><td>1</td><td>21</td><td>But in a box beneath my bed                          </td><td>Tim McGraw</td><td>Taylor Swift</td></tr>\n",
       "\t<tr><td>1</td><td>22</td><td>Is a letter that you never read                      </td><td>Tim McGraw</td><td>Taylor Swift</td></tr>\n",
       "\t<tr><td>1</td><td>23</td><td>From three summers back                              </td><td>Tim McGraw</td><td>Taylor Swift</td></tr>\n",
       "\t<tr><td>1</td><td>24</td><td>It's hard not to find it all a little bittersweet    </td><td>Tim McGraw</td><td>Taylor Swift</td></tr>\n",
       "\t<tr><td>1</td><td>25</td><td>And lookin' back on all of that, it's nice to believe</td><td>Tim McGraw</td><td>Taylor Swift</td></tr>\n",
       "\t<tr><td>1</td><td>26</td><td>When you think Tim McGraw                            </td><td>Tim McGraw</td><td>Taylor Swift</td></tr>\n",
       "\t<tr><td>1</td><td>27</td><td>I hope you think my favorite song                    </td><td>Tim McGraw</td><td>Taylor Swift</td></tr>\n",
       "\t<tr><td>1</td><td>28</td><td>The one we danced to all night long                  </td><td>Tim McGraw</td><td>Taylor Swift</td></tr>\n",
       "\t<tr><td>1</td><td>29</td><td>The moon like a spotlight on the lake                </td><td>Tim McGraw</td><td>Taylor Swift</td></tr>\n",
       "\t<tr><td>1</td><td>30</td><td>When you think happiness                             </td><td>Tim McGraw</td><td>Taylor Swift</td></tr>\n",
       "\t<tr><td>⋮</td><td>⋮</td><td>⋮</td><td>⋮</td><td>⋮</td></tr>\n",
       "\t<tr><td>15</td><td>31</td><td>(Evermore)                                                                         </td><td>​evermore (Ft. Bon Iver)</td><td>evermore</td></tr>\n",
       "\t<tr><td>15</td><td>32</td><td>Can't not think of all the cost                                                    </td><td>​evermore (Ft. Bon Iver)</td><td>evermore</td></tr>\n",
       "\t<tr><td>15</td><td>33</td><td>And the things that will be lost                                                   </td><td>​evermore (Ft. Bon Iver)</td><td>evermore</td></tr>\n",
       "\t<tr><td>15</td><td>34</td><td>Oh, can we just get a pause?                                                       </td><td>​evermore (Ft. Bon Iver)</td><td>evermore</td></tr>\n",
       "\t<tr><td>15</td><td>35</td><td>To be certain, we'll be tall again                                                 </td><td>​evermore (Ft. Bon Iver)</td><td>evermore</td></tr>\n",
       "\t<tr><td>15</td><td>36</td><td>Whether weather be the frost                                                       </td><td>​evermore (Ft. Bon Iver)</td><td>evermore</td></tr>\n",
       "\t<tr><td>15</td><td>37</td><td>Or the violence of the dog days                                                    </td><td>​evermore (Ft. Bon Iver)</td><td>evermore</td></tr>\n",
       "\t<tr><td>15</td><td>38</td><td>I'm on waves, out being tossed                                                     </td><td>​evermore (Ft. Bon Iver)</td><td>evermore</td></tr>\n",
       "\t<tr><td>15</td><td>39</td><td>Is there a line that I could just go cross?                                        </td><td>​evermore (Ft. Bon Iver)</td><td>evermore</td></tr>\n",
       "\t<tr><td>15</td><td>40</td><td>And when I was shipwrecked (Can't think of all the cost)                           </td><td>​evermore (Ft. Bon Iver)</td><td>evermore</td></tr>\n",
       "\t<tr><td>15</td><td>41</td><td>I thought of you (All the things that will be lost now)                            </td><td>​evermore (Ft. Bon Iver)</td><td>evermore</td></tr>\n",
       "\t<tr><td>15</td><td>42</td><td>In the cracks of light (Can we just get a pause?)                                  </td><td>​evermore (Ft. Bon Iver)</td><td>evermore</td></tr>\n",
       "\t<tr><td>15</td><td>43</td><td>I dreamed of you (To be certain we'll be tall again, if you think of all the costs)</td><td>​evermore (Ft. Bon Iver)</td><td>evermore</td></tr>\n",
       "\t<tr><td>15</td><td>44</td><td>It was real enough (Whether weather be the frost)                                  </td><td>​evermore (Ft. Bon Iver)</td><td>evermore</td></tr>\n",
       "\t<tr><td>15</td><td>45</td><td>To get me through (Or the violence of the dog days)                                </td><td>​evermore (Ft. Bon Iver)</td><td>evermore</td></tr>\n",
       "\t<tr><td>15</td><td>46</td><td>(Or the violence of the dog days)                                                  </td><td>​evermore (Ft. Bon Iver)</td><td>evermore</td></tr>\n",
       "\t<tr><td>15</td><td>47</td><td>(Out on waves, being tossed)                                                       </td><td>​evermore (Ft. Bon Iver)</td><td>evermore</td></tr>\n",
       "\t<tr><td>15</td><td>48</td><td>(I'm on waves, out being tossed)                                                   </td><td>​evermore (Ft. Bon Iver)</td><td>evermore</td></tr>\n",
       "\t<tr><td>15</td><td>49</td><td>I swear (Is there a line that we can just go cross?)                               </td><td>​evermore (Ft. Bon Iver)</td><td>evermore</td></tr>\n",
       "\t<tr><td>15</td><td>50</td><td>You were there                                                                     </td><td>​evermore (Ft. Bon Iver)</td><td>evermore</td></tr>\n",
       "\t<tr><td>15</td><td>51</td><td>And I was catching my breath                                                       </td><td>​evermore (Ft. Bon Iver)</td><td>evermore</td></tr>\n",
       "\t<tr><td>15</td><td>52</td><td>Floors of a cabin creaking under my step                                           </td><td>​evermore (Ft. Bon Iver)</td><td>evermore</td></tr>\n",
       "\t<tr><td>15</td><td>53</td><td>And I couldn't be sure                                                             </td><td>​evermore (Ft. Bon Iver)</td><td>evermore</td></tr>\n",
       "\t<tr><td>15</td><td>54</td><td>I had a feeling so peculiar                                                        </td><td>​evermore (Ft. Bon Iver)</td><td>evermore</td></tr>\n",
       "\t<tr><td>15</td><td>55</td><td>This pain wouldn't be for                                                          </td><td>​evermore (Ft. Bon Iver)</td><td>evermore</td></tr>\n",
       "\t<tr><td>15</td><td>56</td><td>Evermore                                                                           </td><td>​evermore (Ft. Bon Iver)</td><td>evermore</td></tr>\n",
       "\t<tr><td>15</td><td>57</td><td>Evermore                                                                           </td><td>​evermore (Ft. Bon Iver)</td><td>evermore</td></tr>\n",
       "\t<tr><td>15</td><td>58</td><td>Evermore                                                                           </td><td>​evermore (Ft. Bon Iver)</td><td>evermore</td></tr>\n",
       "\t<tr><td>15</td><td>59</td><td>This pain wouldn't be for evermore                                                 </td><td>​evermore (Ft. Bon Iver)</td><td>evermore</td></tr>\n",
       "\t<tr><td>15</td><td>60</td><td>Evermore                                                                           </td><td>​evermore (Ft. Bon Iver)</td><td>evermore</td></tr>\n",
       "</tbody>\n",
       "</table>\n"
      ],
      "text/latex": [
       "A tibble: 6960 × 5\n",
       "\\begin{tabular}{lllll}\n",
       " track\\_n & line & lyric & track\\_title & album\\\\\n",
       " <int> & <int> & <chr> & <chr> & <chr>\\\\\n",
       "\\hline\n",
       "\t 1 &  1 & He said the way my blue eyes shined                   & Tim McGraw & Taylor Swift\\\\\n",
       "\t 1 &  2 & Put those Georgia stars to shame that night           & Tim McGraw & Taylor Swift\\\\\n",
       "\t 1 &  3 & I said, \"That's a lie\"Just a boy in a Chevy truck     & Tim McGraw & Taylor Swift\\\\\n",
       "\t 1 &  4 & That had a tendency of gettin' stuck                  & Tim McGraw & Taylor Swift\\\\\n",
       "\t 1 &  5 & On backroads at night                                 & Tim McGraw & Taylor Swift\\\\\n",
       "\t 1 &  6 & And I was right there beside him all summer long      & Tim McGraw & Taylor Swift\\\\\n",
       "\t 1 &  7 & And then the time we woke up to find that summer gone & Tim McGraw & Taylor Swift\\\\\n",
       "\t 1 &  8 & But when you think Tim McGraw                         & Tim McGraw & Taylor Swift\\\\\n",
       "\t 1 &  9 & I hope you think my favorite song                     & Tim McGraw & Taylor Swift\\\\\n",
       "\t 1 & 10 & The one we danced to all night long                   & Tim McGraw & Taylor Swift\\\\\n",
       "\t 1 & 11 & The moon like a spotlight on the lake                 & Tim McGraw & Taylor Swift\\\\\n",
       "\t 1 & 12 & When you think happiness                              & Tim McGraw & Taylor Swift\\\\\n",
       "\t 1 & 13 & I hope you think that little black dress              & Tim McGraw & Taylor Swift\\\\\n",
       "\t 1 & 14 & Think of my head on your chest                        & Tim McGraw & Taylor Swift\\\\\n",
       "\t 1 & 15 & And my old faded blue jeans                           & Tim McGraw & Taylor Swift\\\\\n",
       "\t 1 & 16 & When you think Tim McGraw                             & Tim McGraw & Taylor Swift\\\\\n",
       "\t 1 & 17 & I hope you think of me                                & Tim McGraw & Taylor Swift\\\\\n",
       "\t 1 & 18 & September saw a month of tears                        & Tim McGraw & Taylor Swift\\\\\n",
       "\t 1 & 19 & And thankin' God that you weren't here                & Tim McGraw & Taylor Swift\\\\\n",
       "\t 1 & 20 & To see me like that                                   & Tim McGraw & Taylor Swift\\\\\n",
       "\t 1 & 21 & But in a box beneath my bed                           & Tim McGraw & Taylor Swift\\\\\n",
       "\t 1 & 22 & Is a letter that you never read                       & Tim McGraw & Taylor Swift\\\\\n",
       "\t 1 & 23 & From three summers back                               & Tim McGraw & Taylor Swift\\\\\n",
       "\t 1 & 24 & It's hard not to find it all a little bittersweet     & Tim McGraw & Taylor Swift\\\\\n",
       "\t 1 & 25 & And lookin' back on all of that, it's nice to believe & Tim McGraw & Taylor Swift\\\\\n",
       "\t 1 & 26 & When you think Tim McGraw                             & Tim McGraw & Taylor Swift\\\\\n",
       "\t 1 & 27 & I hope you think my favorite song                     & Tim McGraw & Taylor Swift\\\\\n",
       "\t 1 & 28 & The one we danced to all night long                   & Tim McGraw & Taylor Swift\\\\\n",
       "\t 1 & 29 & The moon like a spotlight on the lake                 & Tim McGraw & Taylor Swift\\\\\n",
       "\t 1 & 30 & When you think happiness                              & Tim McGraw & Taylor Swift\\\\\n",
       "\t ⋮ & ⋮ & ⋮ & ⋮ & ⋮\\\\\n",
       "\t 15 & 31 & (Evermore)                                                                          & ​evermore (Ft. Bon Iver) & evermore\\\\\n",
       "\t 15 & 32 & Can't not think of all the cost                                                     & ​evermore (Ft. Bon Iver) & evermore\\\\\n",
       "\t 15 & 33 & And the things that will be lost                                                    & ​evermore (Ft. Bon Iver) & evermore\\\\\n",
       "\t 15 & 34 & Oh, can we just get a pause?                                                        & ​evermore (Ft. Bon Iver) & evermore\\\\\n",
       "\t 15 & 35 & To be certain, we'll be tall again                                                  & ​evermore (Ft. Bon Iver) & evermore\\\\\n",
       "\t 15 & 36 & Whether weather be the frost                                                        & ​evermore (Ft. Bon Iver) & evermore\\\\\n",
       "\t 15 & 37 & Or the violence of the dog days                                                     & ​evermore (Ft. Bon Iver) & evermore\\\\\n",
       "\t 15 & 38 & I'm on waves, out being tossed                                                      & ​evermore (Ft. Bon Iver) & evermore\\\\\n",
       "\t 15 & 39 & Is there a line that I could just go cross?                                         & ​evermore (Ft. Bon Iver) & evermore\\\\\n",
       "\t 15 & 40 & And when I was shipwrecked (Can't think of all the cost)                            & ​evermore (Ft. Bon Iver) & evermore\\\\\n",
       "\t 15 & 41 & I thought of you (All the things that will be lost now)                             & ​evermore (Ft. Bon Iver) & evermore\\\\\n",
       "\t 15 & 42 & In the cracks of light (Can we just get a pause?)                                   & ​evermore (Ft. Bon Iver) & evermore\\\\\n",
       "\t 15 & 43 & I dreamed of you (To be certain we'll be tall again, if you think of all the costs) & ​evermore (Ft. Bon Iver) & evermore\\\\\n",
       "\t 15 & 44 & It was real enough (Whether weather be the frost)                                   & ​evermore (Ft. Bon Iver) & evermore\\\\\n",
       "\t 15 & 45 & To get me through (Or the violence of the dog days)                                 & ​evermore (Ft. Bon Iver) & evermore\\\\\n",
       "\t 15 & 46 & (Or the violence of the dog days)                                                   & ​evermore (Ft. Bon Iver) & evermore\\\\\n",
       "\t 15 & 47 & (Out on waves, being tossed)                                                        & ​evermore (Ft. Bon Iver) & evermore\\\\\n",
       "\t 15 & 48 & (I'm on waves, out being tossed)                                                    & ​evermore (Ft. Bon Iver) & evermore\\\\\n",
       "\t 15 & 49 & I swear (Is there a line that we can just go cross?)                                & ​evermore (Ft. Bon Iver) & evermore\\\\\n",
       "\t 15 & 50 & You were there                                                                      & ​evermore (Ft. Bon Iver) & evermore\\\\\n",
       "\t 15 & 51 & And I was catching my breath                                                        & ​evermore (Ft. Bon Iver) & evermore\\\\\n",
       "\t 15 & 52 & Floors of a cabin creaking under my step                                            & ​evermore (Ft. Bon Iver) & evermore\\\\\n",
       "\t 15 & 53 & And I couldn't be sure                                                              & ​evermore (Ft. Bon Iver) & evermore\\\\\n",
       "\t 15 & 54 & I had a feeling so peculiar                                                         & ​evermore (Ft. Bon Iver) & evermore\\\\\n",
       "\t 15 & 55 & This pain wouldn't be for                                                           & ​evermore (Ft. Bon Iver) & evermore\\\\\n",
       "\t 15 & 56 & Evermore                                                                            & ​evermore (Ft. Bon Iver) & evermore\\\\\n",
       "\t 15 & 57 & Evermore                                                                            & ​evermore (Ft. Bon Iver) & evermore\\\\\n",
       "\t 15 & 58 & Evermore                                                                            & ​evermore (Ft. Bon Iver) & evermore\\\\\n",
       "\t 15 & 59 & This pain wouldn't be for evermore                                                  & ​evermore (Ft. Bon Iver) & evermore\\\\\n",
       "\t 15 & 60 & Evermore                                                                            & ​evermore (Ft. Bon Iver) & evermore\\\\\n",
       "\\end{tabular}\n"
      ],
      "text/markdown": [
       "\n",
       "A tibble: 6960 × 5\n",
       "\n",
       "| track_n &lt;int&gt; | line &lt;int&gt; | lyric &lt;chr&gt; | track_title &lt;chr&gt; | album &lt;chr&gt; |\n",
       "|---|---|---|---|---|\n",
       "| 1 |  1 | He said the way my blue eyes shined                   | Tim McGraw | Taylor Swift |\n",
       "| 1 |  2 | Put those Georgia stars to shame that night           | Tim McGraw | Taylor Swift |\n",
       "| 1 |  3 | I said, \"That's a lie\"Just a boy in a Chevy truck     | Tim McGraw | Taylor Swift |\n",
       "| 1 |  4 | That had a tendency of gettin' stuck                  | Tim McGraw | Taylor Swift |\n",
       "| 1 |  5 | On backroads at night                                 | Tim McGraw | Taylor Swift |\n",
       "| 1 |  6 | And I was right there beside him all summer long      | Tim McGraw | Taylor Swift |\n",
       "| 1 |  7 | And then the time we woke up to find that summer gone | Tim McGraw | Taylor Swift |\n",
       "| 1 |  8 | But when you think Tim McGraw                         | Tim McGraw | Taylor Swift |\n",
       "| 1 |  9 | I hope you think my favorite song                     | Tim McGraw | Taylor Swift |\n",
       "| 1 | 10 | The one we danced to all night long                   | Tim McGraw | Taylor Swift |\n",
       "| 1 | 11 | The moon like a spotlight on the lake                 | Tim McGraw | Taylor Swift |\n",
       "| 1 | 12 | When you think happiness                              | Tim McGraw | Taylor Swift |\n",
       "| 1 | 13 | I hope you think that little black dress              | Tim McGraw | Taylor Swift |\n",
       "| 1 | 14 | Think of my head on your chest                        | Tim McGraw | Taylor Swift |\n",
       "| 1 | 15 | And my old faded blue jeans                           | Tim McGraw | Taylor Swift |\n",
       "| 1 | 16 | When you think Tim McGraw                             | Tim McGraw | Taylor Swift |\n",
       "| 1 | 17 | I hope you think of me                                | Tim McGraw | Taylor Swift |\n",
       "| 1 | 18 | September saw a month of tears                        | Tim McGraw | Taylor Swift |\n",
       "| 1 | 19 | And thankin' God that you weren't here                | Tim McGraw | Taylor Swift |\n",
       "| 1 | 20 | To see me like that                                   | Tim McGraw | Taylor Swift |\n",
       "| 1 | 21 | But in a box beneath my bed                           | Tim McGraw | Taylor Swift |\n",
       "| 1 | 22 | Is a letter that you never read                       | Tim McGraw | Taylor Swift |\n",
       "| 1 | 23 | From three summers back                               | Tim McGraw | Taylor Swift |\n",
       "| 1 | 24 | It's hard not to find it all a little bittersweet     | Tim McGraw | Taylor Swift |\n",
       "| 1 | 25 | And lookin' back on all of that, it's nice to believe | Tim McGraw | Taylor Swift |\n",
       "| 1 | 26 | When you think Tim McGraw                             | Tim McGraw | Taylor Swift |\n",
       "| 1 | 27 | I hope you think my favorite song                     | Tim McGraw | Taylor Swift |\n",
       "| 1 | 28 | The one we danced to all night long                   | Tim McGraw | Taylor Swift |\n",
       "| 1 | 29 | The moon like a spotlight on the lake                 | Tim McGraw | Taylor Swift |\n",
       "| 1 | 30 | When you think happiness                              | Tim McGraw | Taylor Swift |\n",
       "| ⋮ | ⋮ | ⋮ | ⋮ | ⋮ |\n",
       "| 15 | 31 | (Evermore)                                                                          | ​evermore (Ft. Bon Iver) | evermore |\n",
       "| 15 | 32 | Can't not think of all the cost                                                     | ​evermore (Ft. Bon Iver) | evermore |\n",
       "| 15 | 33 | And the things that will be lost                                                    | ​evermore (Ft. Bon Iver) | evermore |\n",
       "| 15 | 34 | Oh, can we just get a pause?                                                        | ​evermore (Ft. Bon Iver) | evermore |\n",
       "| 15 | 35 | To be certain, we'll be tall again                                                  | ​evermore (Ft. Bon Iver) | evermore |\n",
       "| 15 | 36 | Whether weather be the frost                                                        | ​evermore (Ft. Bon Iver) | evermore |\n",
       "| 15 | 37 | Or the violence of the dog days                                                     | ​evermore (Ft. Bon Iver) | evermore |\n",
       "| 15 | 38 | I'm on waves, out being tossed                                                      | ​evermore (Ft. Bon Iver) | evermore |\n",
       "| 15 | 39 | Is there a line that I could just go cross?                                         | ​evermore (Ft. Bon Iver) | evermore |\n",
       "| 15 | 40 | And when I was shipwrecked (Can't think of all the cost)                            | ​evermore (Ft. Bon Iver) | evermore |\n",
       "| 15 | 41 | I thought of you (All the things that will be lost now)                             | ​evermore (Ft. Bon Iver) | evermore |\n",
       "| 15 | 42 | In the cracks of light (Can we just get a pause?)                                   | ​evermore (Ft. Bon Iver) | evermore |\n",
       "| 15 | 43 | I dreamed of you (To be certain we'll be tall again, if you think of all the costs) | ​evermore (Ft. Bon Iver) | evermore |\n",
       "| 15 | 44 | It was real enough (Whether weather be the frost)                                   | ​evermore (Ft. Bon Iver) | evermore |\n",
       "| 15 | 45 | To get me through (Or the violence of the dog days)                                 | ​evermore (Ft. Bon Iver) | evermore |\n",
       "| 15 | 46 | (Or the violence of the dog days)                                                   | ​evermore (Ft. Bon Iver) | evermore |\n",
       "| 15 | 47 | (Out on waves, being tossed)                                                        | ​evermore (Ft. Bon Iver) | evermore |\n",
       "| 15 | 48 | (I'm on waves, out being tossed)                                                    | ​evermore (Ft. Bon Iver) | evermore |\n",
       "| 15 | 49 | I swear (Is there a line that we can just go cross?)                                | ​evermore (Ft. Bon Iver) | evermore |\n",
       "| 15 | 50 | You were there                                                                      | ​evermore (Ft. Bon Iver) | evermore |\n",
       "| 15 | 51 | And I was catching my breath                                                        | ​evermore (Ft. Bon Iver) | evermore |\n",
       "| 15 | 52 | Floors of a cabin creaking under my step                                            | ​evermore (Ft. Bon Iver) | evermore |\n",
       "| 15 | 53 | And I couldn't be sure                                                              | ​evermore (Ft. Bon Iver) | evermore |\n",
       "| 15 | 54 | I had a feeling so peculiar                                                         | ​evermore (Ft. Bon Iver) | evermore |\n",
       "| 15 | 55 | This pain wouldn't be for                                                           | ​evermore (Ft. Bon Iver) | evermore |\n",
       "| 15 | 56 | Evermore                                                                            | ​evermore (Ft. Bon Iver) | evermore |\n",
       "| 15 | 57 | Evermore                                                                            | ​evermore (Ft. Bon Iver) | evermore |\n",
       "| 15 | 58 | Evermore                                                                            | ​evermore (Ft. Bon Iver) | evermore |\n",
       "| 15 | 59 | This pain wouldn't be for evermore                                                  | ​evermore (Ft. Bon Iver) | evermore |\n",
       "| 15 | 60 | Evermore                                                                            | ​evermore (Ft. Bon Iver) | evermore |\n",
       "\n"
      ],
      "text/plain": [
       "     track_n line\n",
       "1    1        1  \n",
       "2    1        2  \n",
       "3    1        3  \n",
       "4    1        4  \n",
       "5    1        5  \n",
       "6    1        6  \n",
       "7    1        7  \n",
       "8    1        8  \n",
       "9    1        9  \n",
       "10   1       10  \n",
       "11   1       11  \n",
       "12   1       12  \n",
       "13   1       13  \n",
       "14   1       14  \n",
       "15   1       15  \n",
       "16   1       16  \n",
       "17   1       17  \n",
       "18   1       18  \n",
       "19   1       19  \n",
       "20   1       20  \n",
       "21   1       21  \n",
       "22   1       22  \n",
       "23   1       23  \n",
       "24   1       24  \n",
       "25   1       25  \n",
       "26   1       26  \n",
       "27   1       27  \n",
       "28   1       28  \n",
       "29   1       29  \n",
       "30   1       30  \n",
       "⋮    ⋮       ⋮   \n",
       "6931 15      31  \n",
       "6932 15      32  \n",
       "6933 15      33  \n",
       "6934 15      34  \n",
       "6935 15      35  \n",
       "6936 15      36  \n",
       "6937 15      37  \n",
       "6938 15      38  \n",
       "6939 15      39  \n",
       "6940 15      40  \n",
       "6941 15      41  \n",
       "6942 15      42  \n",
       "6943 15      43  \n",
       "6944 15      44  \n",
       "6945 15      45  \n",
       "6946 15      46  \n",
       "6947 15      47  \n",
       "6948 15      48  \n",
       "6949 15      49  \n",
       "6950 15      50  \n",
       "6951 15      51  \n",
       "6952 15      52  \n",
       "6953 15      53  \n",
       "6954 15      54  \n",
       "6955 15      55  \n",
       "6956 15      56  \n",
       "6957 15      57  \n",
       "6958 15      58  \n",
       "6959 15      59  \n",
       "6960 15      60  \n",
       "     lyric                                                                              \n",
       "1    He said the way my blue eyes shined                                                \n",
       "2    Put those Georgia stars to shame that night                                        \n",
       "3    I said, \"That's a lie\"Just a boy in a Chevy truck                                  \n",
       "4    That had a tendency of gettin' stuck                                               \n",
       "5    On backroads at night                                                              \n",
       "6    And I was right there beside him all summer long                                   \n",
       "7    And then the time we woke up to find that summer gone                              \n",
       "8    But when you think Tim McGraw                                                      \n",
       "9    I hope you think my favorite song                                                  \n",
       "10   The one we danced to all night long                                                \n",
       "11   The moon like a spotlight on the lake                                              \n",
       "12   When you think happiness                                                           \n",
       "13   I hope you think that little black dress                                           \n",
       "14   Think of my head on your chest                                                     \n",
       "15   And my old faded blue jeans                                                        \n",
       "16   When you think Tim McGraw                                                          \n",
       "17   I hope you think of me                                                             \n",
       "18   September saw a month of tears                                                     \n",
       "19   And thankin' God that you weren't here                                             \n",
       "20   To see me like that                                                                \n",
       "21   But in a box beneath my bed                                                        \n",
       "22   Is a letter that you never read                                                    \n",
       "23   From three summers back                                                            \n",
       "24   It's hard not to find it all a little bittersweet                                  \n",
       "25   And lookin' back on all of that, it's nice to believe                              \n",
       "26   When you think Tim McGraw                                                          \n",
       "27   I hope you think my favorite song                                                  \n",
       "28   The one we danced to all night long                                                \n",
       "29   The moon like a spotlight on the lake                                              \n",
       "30   When you think happiness                                                           \n",
       "⋮    ⋮                                                                                  \n",
       "6931 (Evermore)                                                                         \n",
       "6932 Can't not think of all the cost                                                    \n",
       "6933 And the things that will be lost                                                   \n",
       "6934 Oh, can we just get a pause?                                                       \n",
       "6935 To be certain, we'll be tall again                                                 \n",
       "6936 Whether weather be the frost                                                       \n",
       "6937 Or the violence of the dog days                                                    \n",
       "6938 I'm on waves, out being tossed                                                     \n",
       "6939 Is there a line that I could just go cross?                                        \n",
       "6940 And when I was shipwrecked (Can't think of all the cost)                           \n",
       "6941 I thought of you (All the things that will be lost now)                            \n",
       "6942 In the cracks of light (Can we just get a pause?)                                  \n",
       "6943 I dreamed of you (To be certain we'll be tall again, if you think of all the costs)\n",
       "6944 It was real enough (Whether weather be the frost)                                  \n",
       "6945 To get me through (Or the violence of the dog days)                                \n",
       "6946 (Or the violence of the dog days)                                                  \n",
       "6947 (Out on waves, being tossed)                                                       \n",
       "6948 (I'm on waves, out being tossed)                                                   \n",
       "6949 I swear (Is there a line that we can just go cross?)                               \n",
       "6950 You were there                                                                     \n",
       "6951 And I was catching my breath                                                       \n",
       "6952 Floors of a cabin creaking under my step                                           \n",
       "6953 And I couldn't be sure                                                             \n",
       "6954 I had a feeling so peculiar                                                        \n",
       "6955 This pain wouldn't be for                                                          \n",
       "6956 Evermore                                                                           \n",
       "6957 Evermore                                                                           \n",
       "6958 Evermore                                                                           \n",
       "6959 This pain wouldn't be for evermore                                                 \n",
       "6960 Evermore                                                                           \n",
       "     track_title             album       \n",
       "1    Tim McGraw              Taylor Swift\n",
       "2    Tim McGraw              Taylor Swift\n",
       "3    Tim McGraw              Taylor Swift\n",
       "4    Tim McGraw              Taylor Swift\n",
       "5    Tim McGraw              Taylor Swift\n",
       "6    Tim McGraw              Taylor Swift\n",
       "7    Tim McGraw              Taylor Swift\n",
       "8    Tim McGraw              Taylor Swift\n",
       "9    Tim McGraw              Taylor Swift\n",
       "10   Tim McGraw              Taylor Swift\n",
       "11   Tim McGraw              Taylor Swift\n",
       "12   Tim McGraw              Taylor Swift\n",
       "13   Tim McGraw              Taylor Swift\n",
       "14   Tim McGraw              Taylor Swift\n",
       "15   Tim McGraw              Taylor Swift\n",
       "16   Tim McGraw              Taylor Swift\n",
       "17   Tim McGraw              Taylor Swift\n",
       "18   Tim McGraw              Taylor Swift\n",
       "19   Tim McGraw              Taylor Swift\n",
       "20   Tim McGraw              Taylor Swift\n",
       "21   Tim McGraw              Taylor Swift\n",
       "22   Tim McGraw              Taylor Swift\n",
       "23   Tim McGraw              Taylor Swift\n",
       "24   Tim McGraw              Taylor Swift\n",
       "25   Tim McGraw              Taylor Swift\n",
       "26   Tim McGraw              Taylor Swift\n",
       "27   Tim McGraw              Taylor Swift\n",
       "28   Tim McGraw              Taylor Swift\n",
       "29   Tim McGraw              Taylor Swift\n",
       "30   Tim McGraw              Taylor Swift\n",
       "⋮    ⋮                       ⋮           \n",
       "6931 ​evermore (Ft. Bon Iver) evermore    \n",
       "6932 ​evermore (Ft. Bon Iver) evermore    \n",
       "6933 ​evermore (Ft. Bon Iver) evermore    \n",
       "6934 ​evermore (Ft. Bon Iver) evermore    \n",
       "6935 ​evermore (Ft. Bon Iver) evermore    \n",
       "6936 ​evermore (Ft. Bon Iver) evermore    \n",
       "6937 ​evermore (Ft. Bon Iver) evermore    \n",
       "6938 ​evermore (Ft. Bon Iver) evermore    \n",
       "6939 ​evermore (Ft. Bon Iver) evermore    \n",
       "6940 ​evermore (Ft. Bon Iver) evermore    \n",
       "6941 ​evermore (Ft. Bon Iver) evermore    \n",
       "6942 ​evermore (Ft. Bon Iver) evermore    \n",
       "6943 ​evermore (Ft. Bon Iver) evermore    \n",
       "6944 ​evermore (Ft. Bon Iver) evermore    \n",
       "6945 ​evermore (Ft. Bon Iver) evermore    \n",
       "6946 ​evermore (Ft. Bon Iver) evermore    \n",
       "6947 ​evermore (Ft. Bon Iver) evermore    \n",
       "6948 ​evermore (Ft. Bon Iver) evermore    \n",
       "6949 ​evermore (Ft. Bon Iver) evermore    \n",
       "6950 ​evermore (Ft. Bon Iver) evermore    \n",
       "6951 ​evermore (Ft. Bon Iver) evermore    \n",
       "6952 ​evermore (Ft. Bon Iver) evermore    \n",
       "6953 ​evermore (Ft. Bon Iver) evermore    \n",
       "6954 ​evermore (Ft. Bon Iver) evermore    \n",
       "6955 ​evermore (Ft. Bon Iver) evermore    \n",
       "6956 ​evermore (Ft. Bon Iver) evermore    \n",
       "6957 ​evermore (Ft. Bon Iver) evermore    \n",
       "6958 ​evermore (Ft. Bon Iver) evermore    \n",
       "6959 ​evermore (Ft. Bon Iver) evermore    \n",
       "6960 ​evermore (Ft. Bon Iver) evermore    "
      ]
     },
     "metadata": {},
     "output_type": "display_data"
    }
   ],
   "source": [
    "df_discography"
   ]
  },
  {
   "cell_type": "code",
   "execution_count": 35,
   "id": "raised-chosen",
   "metadata": {},
   "outputs": [],
   "source": [
    "#Patterns to be removed from the data\n",
    "remove.list = paste(c(\"Demo Recording\", \"Voice Memo\", \"Pop Version\", \"Acoustic Version\"), collapse = '|')"
   ]
  },
  {
   "cell_type": "code",
   "execution_count": 36,
   "id": "banned-philippines",
   "metadata": {},
   "outputs": [],
   "source": [
    "df_discography = df_discography%>%filter(!grepl(remove.list, track_title)) "
   ]
  },
  {
   "cell_type": "code",
   "execution_count": 37,
   "id": "destroyed-cycle",
   "metadata": {},
   "outputs": [
    {
     "data": {
      "text/html": [
       "<style>\n",
       ".list-inline {list-style: none; margin:0; padding: 0}\n",
       ".list-inline>li {display: inline-block}\n",
       ".list-inline>li:not(:last-child)::after {content: \"\\00b7\"; padding: 0 .5ex}\n",
       "</style>\n",
       "<ol class=list-inline><li>6916</li><li>5</li></ol>\n"
      ],
      "text/latex": [
       "\\begin{enumerate*}\n",
       "\\item 6916\n",
       "\\item 5\n",
       "\\end{enumerate*}\n"
      ],
      "text/markdown": [
       "1. 6916\n",
       "2. 5\n",
       "\n",
       "\n"
      ],
      "text/plain": [
       "[1] 6916    5"
      ]
     },
     "metadata": {},
     "output_type": "display_data"
    }
   ],
   "source": [
    "dim(df_discography)"
   ]
  },
  {
   "cell_type": "code",
   "execution_count": null,
   "id": "informed-appraisal",
   "metadata": {},
   "outputs": [],
   "source": []
  }
 ],
 "metadata": {
  "kernelspec": {
   "display_name": "R",
   "language": "R",
   "name": "ir"
  },
  "language_info": {
   "codemirror_mode": "r",
   "file_extension": ".r",
   "mimetype": "text/x-r-source",
   "name": "R",
   "pygments_lexer": "r",
   "version": "3.6.3"
  }
 },
 "nbformat": 4,
 "nbformat_minor": 5
}
